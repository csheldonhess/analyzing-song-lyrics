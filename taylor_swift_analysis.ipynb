{
 "cells": [
  {
   "cell_type": "code",
   "execution_count": 2,
   "metadata": {},
   "outputs": [],
   "source": [
    "import pandas as pd"
   ]
  },
  {
   "cell_type": "code",
   "execution_count": 4,
   "metadata": {},
   "outputs": [],
   "source": [
    "df = pd.read_csv('taylor_swift_lyrics.csv', encoding='latin-1')"
   ]
  },
  {
   "cell_type": "code",
   "execution_count": 5,
   "metadata": {},
   "outputs": [
    {
     "data": {
      "text/html": [
       "<div>\n",
       "<style scoped>\n",
       "    .dataframe tbody tr th:only-of-type {\n",
       "        vertical-align: middle;\n",
       "    }\n",
       "\n",
       "    .dataframe tbody tr th {\n",
       "        vertical-align: top;\n",
       "    }\n",
       "\n",
       "    .dataframe thead th {\n",
       "        text-align: right;\n",
       "    }\n",
       "</style>\n",
       "<table border=\"1\" class=\"dataframe\">\n",
       "  <thead>\n",
       "    <tr style=\"text-align: right;\">\n",
       "      <th></th>\n",
       "      <th>artist</th>\n",
       "      <th>album</th>\n",
       "      <th>track_title</th>\n",
       "      <th>track_n</th>\n",
       "      <th>lyric</th>\n",
       "      <th>line</th>\n",
       "      <th>year</th>\n",
       "    </tr>\n",
       "  </thead>\n",
       "  <tbody>\n",
       "    <tr>\n",
       "      <th>0</th>\n",
       "      <td>Taylor Swift</td>\n",
       "      <td>Taylor Swift</td>\n",
       "      <td>Tim McGraw</td>\n",
       "      <td>1</td>\n",
       "      <td>He said the way my blue eyes shined</td>\n",
       "      <td>1</td>\n",
       "      <td>2006</td>\n",
       "    </tr>\n",
       "    <tr>\n",
       "      <th>1</th>\n",
       "      <td>Taylor Swift</td>\n",
       "      <td>Taylor Swift</td>\n",
       "      <td>Tim McGraw</td>\n",
       "      <td>1</td>\n",
       "      <td>Put those Georgia stars to shame that night</td>\n",
       "      <td>2</td>\n",
       "      <td>2006</td>\n",
       "    </tr>\n",
       "    <tr>\n",
       "      <th>2</th>\n",
       "      <td>Taylor Swift</td>\n",
       "      <td>Taylor Swift</td>\n",
       "      <td>Tim McGraw</td>\n",
       "      <td>1</td>\n",
       "      <td>I said, \"That's a lie\"</td>\n",
       "      <td>3</td>\n",
       "      <td>2006</td>\n",
       "    </tr>\n",
       "    <tr>\n",
       "      <th>3</th>\n",
       "      <td>Taylor Swift</td>\n",
       "      <td>Taylor Swift</td>\n",
       "      <td>Tim McGraw</td>\n",
       "      <td>1</td>\n",
       "      <td>Just a boy in a Chevy truck</td>\n",
       "      <td>4</td>\n",
       "      <td>2006</td>\n",
       "    </tr>\n",
       "    <tr>\n",
       "      <th>4</th>\n",
       "      <td>Taylor Swift</td>\n",
       "      <td>Taylor Swift</td>\n",
       "      <td>Tim McGraw</td>\n",
       "      <td>1</td>\n",
       "      <td>That had a tendency of gettin' stuck</td>\n",
       "      <td>5</td>\n",
       "      <td>2006</td>\n",
       "    </tr>\n",
       "  </tbody>\n",
       "</table>\n",
       "</div>"
      ],
      "text/plain": [
       "         artist         album track_title  track_n  \\\n",
       "0  Taylor Swift  Taylor Swift  Tim McGraw        1   \n",
       "1  Taylor Swift  Taylor Swift  Tim McGraw        1   \n",
       "2  Taylor Swift  Taylor Swift  Tim McGraw        1   \n",
       "3  Taylor Swift  Taylor Swift  Tim McGraw        1   \n",
       "4  Taylor Swift  Taylor Swift  Tim McGraw        1   \n",
       "\n",
       "                                         lyric  line  year  \n",
       "0          He said the way my blue eyes shined     1  2006  \n",
       "1  Put those Georgia stars to shame that night     2  2006  \n",
       "2                       I said, \"That's a lie\"     3  2006  \n",
       "3                  Just a boy in a Chevy truck     4  2006  \n",
       "4         That had a tendency of gettin' stuck     5  2006  "
      ]
     },
     "execution_count": 5,
     "metadata": {},
     "output_type": "execute_result"
    }
   ],
   "source": [
    "df.head() # each row represents one line of lyrics\n",
    "# columns: (id,) artist, album, track_title, track_n, lyric, line, year"
   ]
  },
  {
   "cell_type": "code",
   "execution_count": 7,
   "metadata": {},
   "outputs": [],
   "source": [
    "songs = df.groupby('track_title').agg({'lyric': lambda x: ' '.join(x), \n",
    "                                       'year': 'mean'}).reset_index()"
   ]
  },
  {
   "cell_type": "code",
   "execution_count": 12,
   "metadata": {},
   "outputs": [
    {
     "data": {
      "text/html": [
       "<div>\n",
       "<style scoped>\n",
       "    .dataframe tbody tr th:only-of-type {\n",
       "        vertical-align: middle;\n",
       "    }\n",
       "\n",
       "    .dataframe tbody tr th {\n",
       "        vertical-align: top;\n",
       "    }\n",
       "\n",
       "    .dataframe thead th {\n",
       "        text-align: right;\n",
       "    }\n",
       "</style>\n",
       "<table border=\"1\" class=\"dataframe\">\n",
       "  <thead>\n",
       "    <tr style=\"text-align: right;\">\n",
       "      <th></th>\n",
       "      <th>track_title</th>\n",
       "      <th>lyric</th>\n",
       "      <th>year</th>\n",
       "    </tr>\n",
       "  </thead>\n",
       "  <tbody>\n",
       "    <tr>\n",
       "      <th>0</th>\n",
       "      <td>...Ready for It?</td>\n",
       "      <td>Knew he was a killer first time that I saw him Wondered how many girls he had loved and left haunted But if he's a ghost, then I can be a phantom Holdin' him for ransom, some Some boys are tryin' too hard, he don't try at all though Younger than my exes, but he act like such a man, so I see nothing better, I keep him forever Like a vendetta-ta I, I, I see how this is gon' go Touch me and you'll never be alone I-Island breeze and lights down low No one has to know In the middle of the night, in my dreams You should see the things we do, baby In the middle of the night, in my dreams I know I'm gonna be with you So I take my time Are you ready for it? Knew I was a robber first time that he saw me Stealing hearts and running off and never sayin' sorry But if I'm a thief, then he can join the heist, and We'll move to an island, and And he can be my jailer, Burton to this Taylor Every love I've known in comparison is a failure I forget their names now, I'm so very tame now Never be the same now, now I, I, I see how this is gon' go Touch me and you'll never be alone I-Island breeze and lights down low No one has to know (no one has to know) In the middle of the night, in my dreams You should see the things we do, baby In the middle of the night in my dreams I know I'm gonna be with you So I take my time Are you ready for it? Oh, are you ready for it? Baby, let the games begin Let the games begin Let the games begin Baby, let the games begin Let the games begin Let the games begin I, I, I see how this is gon' go Touch me and you'll never be alone I-Island breeze and lights down low No one has to know In the middle of the night, in my dreams You should see the things we do, baby In the middle of the night, in my dreams I know I'm gonna be with you So I take my time In the middle of the night Baby, let the games begin Let the games begin Let the games begin Are you ready for it? Baby, let the games begin Let the games begin Let the games begin Are you ready for it?</td>\n",
       "      <td>2017</td>\n",
       "    </tr>\n",
       "    <tr>\n",
       "      <th>1</th>\n",
       "      <td>22</td>\n",
       "      <td>It feels like a perfect night to dress up like hipsters And make fun of our exes, uh uh, uh uh It feels like a perfect night for breakfast at midnight To fall in love with strangers, uh uh, uh uh Yeah We're happy, free, confused, and lonely at the same time It's miserable and magical, oh yeah Tonight's the night when we forget about the deadlines It's time, uh uh I don't know about you, but I'm feeling 22 Everything will be alright if you keep me next to you You don't know about me, but I bet you wanted to Everything will be alright if we just keep dancing like we're 22 22 It seems like one of those nights This place is too crowded, too many cool kids, uh uh, uh uh (Who's Taylor Swift, anyway? Ew) It seems like one of those nights We ditch the whole scene and end up dreaming Instead of sleeping Yeah We're happy, free, confused, and lonely in the best way It's miserable and magical, oh yeah Tonight's the night when we forget about The heartbreaks, it's time Oh oh I don't know about you, but I'm feeling 22 Everything will be alright if you keep me next to you You don't know about me, but I bet you wanted to Everything will be alright if we just keep dancing like we're 22 22 I don't know about you 22, 22 It feels like one of those nights We ditch the whole scene It feels like one of those nights We won't be sleeping It feels like one of those nights You look like bad news, I gotta have you I gotta have you I don't know about you, but I'm feeling 22 Everything will be alright if you keep me next to you You don't know about me, but I bet you wanted to Everything will be alright if we just keep dancing like we're 22 22 Dancing like 22, yeah, 22, yeah yeah It feels like one of those nights We ditch the whole scene It feels like one of those nights We won't be sleeping It feels like one of those nights You look like bad news, I gotta have you I gotta have you</td>\n",
       "      <td>2012</td>\n",
       "    </tr>\n",
       "    <tr>\n",
       "      <th>2</th>\n",
       "      <td>A Perfectly Good Heart</td>\n",
       "      <td>Why would you wanna break a perfectly good heart? Why would you wanna take our love and tear it all apart, now? Why would you wanna make the very first scar? Why would you wanna break a perfectly good heart? Maybe I should've seen the signs, should've read the writing on the wall And realized by the distance in your eyes that I would be the one to fall No matter what you say, I still can't believe That you would walk away It don't make sense to me, but Why would you wanna break a perfectly good heart? Why would you wanna take our love and tear it all apart,now? Why would you wanna make the very first scar? Why would you wanna break a perfectly good heart? It's not unbroken anymore How do I get it back the way it was before? Why would you wanna break a perfectly good heart? Why would you wanna take our love and tear it all apart, now? Why would you wanna make the very first scar? Why would you wanna break a perfectly good heart? Why would you wanna break a perfectly good heart? Why would you wanna take our love and tear it all apart, now? Why would you wanna make the very first scar? Why would you wanna break a perfectly good heart?</td>\n",
       "      <td>2006</td>\n",
       "    </tr>\n",
       "    <tr>\n",
       "      <th>3</th>\n",
       "      <td>A Place In This World</td>\n",
       "      <td>I don't know what I want, so don't ask me Cause I'm still trying to figure it out Don't know what's down this road, I'm just walking Trying to see through the rain coming down Even though I'm not the only one Who feels the way I do I'm alone, on my own, and that's all I know I'll be strong, I'll be wrong, oh but life goes on Oh, I'm just a girl, trying to find a place in this world Got the radio on, my old blue jeans And I'm wearing my heart on my sleeve Feeling lucky today, got the sunshine Could you tell me what more do I need And tomorrow's just a mystery, oh yeah But that's OK I'm alone, on my own, and that's all I know I'll be strong, I'll be wrong, oh but life goes on Oh, I'm just a girl, trying to find a place in this world Maybe I'm just a girl on a mission But I'm ready to fly I'm alone, on my own, and that's all I know I'll be strong, I'll be wrong, oh but life goes on Oh I'm alone, on my own, and that's all I know Oh I'm just a girl, trying to find a place in this world Oh I'm just a girl Oh I'm just a girl, oh, oh Oh I'm just a girl</td>\n",
       "      <td>2006</td>\n",
       "    </tr>\n",
       "    <tr>\n",
       "      <th>4</th>\n",
       "      <td>All Too Well</td>\n",
       "      <td>I walked through the door with you, the air was cold But something 'bout it felt like home somehow and I Left my scarf there at your sister's house And you've still got it in your drawer, even now Oh, your sweet disposition And my wide-eyed gaze We're singing in a car getting lost Upstate The autumn leaves falling down like pieces into place And I can picture it after all these days And I know it's long gone, and that magic's not here no more And I might be okay, but I'm not fine at all 'Cause there we are again on that little town street You almost ran the red 'cause you were looking over at me Wind in my hair, I was there, I remember it all too well Photo album on the counter Your cheeks were turning red You used to be a little kid with glasses in a twin-sized bed And your mother's telling stories 'bout you on the tee ball team You taught me about your past thinking your future was me And I know it's long gone, and there was nothing else I could do And I forget about you long enough to forget why I needed to 'Cause there we are again in the middle of the night We're dancing round the kitchen in the refrigerator light Down the stairs, I was there, I remember it all too well, yeah And maybe we got lost in translation Maybe I asked for too much But maybe this thing was a masterpiece 'Till you tore it all up Running scared, I was there, I remember it all too well And you call me up again just to break me like a promise So casually cruel in the name of being honest I'm a crumpled up piece of paper lying here 'Cause I remember it all, all, all... too well Time won't fly it's like I'm paralyzed by it I'd like to be my old self again But I'm still trying to find it After plaid shirt days and nights when you made me your own Now you mail back my things and I walk home alone But you keep my old scarf from that very first week 'Cause it reminds you of innocence and it smells like me You can't get rid of it, 'cause you remember it all too well, yeah Because there we are again when I loved you so Back before you lost the one real thing you've ever known It was rare, I was there, I remember it all too well Wind in my hair, you were there, you remember it all Down the stairs, you were there, you remember it all It was rare, I was there, I remember it all too well</td>\n",
       "      <td>2012</td>\n",
       "    </tr>\n",
       "  </tbody>\n",
       "</table>\n",
       "</div>"
      ],
      "text/plain": [
       "              track_title  \\\n",
       "0        ...Ready for It?   \n",
       "1                      22   \n",
       "2  A Perfectly Good Heart   \n",
       "3   A Place In This World   \n",
       "4            All Too Well   \n",
       "\n",
       "                                                                                                                                                                                                                                                                                                                                                                                                                                                                                                                                                                                                                                                                                                                                                                                                                                                                                                                                                                                                                                                                                                                                                                                                                                                                                                                                                                                                                                                                                                                                                                                                                                                                                                                                                                                                                                                                                                                                                                                                                                                                                                                                                                                                                                                                                                                                                                                lyric  \\\n",
       "0                                                                                                                                                                                                                                                                                                               Knew he was a killer first time that I saw him Wondered how many girls he had loved and left haunted But if he's a ghost, then I can be a phantom Holdin' him for ransom, some Some boys are tryin' too hard, he don't try at all though Younger than my exes, but he act like such a man, so I see nothing better, I keep him forever Like a vendetta-ta I, I, I see how this is gon' go Touch me and you'll never be alone I-Island breeze and lights down low No one has to know In the middle of the night, in my dreams You should see the things we do, baby In the middle of the night, in my dreams I know I'm gonna be with you So I take my time Are you ready for it? Knew I was a robber first time that he saw me Stealing hearts and running off and never sayin' sorry But if I'm a thief, then he can join the heist, and We'll move to an island, and And he can be my jailer, Burton to this Taylor Every love I've known in comparison is a failure I forget their names now, I'm so very tame now Never be the same now, now I, I, I see how this is gon' go Touch me and you'll never be alone I-Island breeze and lights down low No one has to know (no one has to know) In the middle of the night, in my dreams You should see the things we do, baby In the middle of the night in my dreams I know I'm gonna be with you So I take my time Are you ready for it? Oh, are you ready for it? Baby, let the games begin Let the games begin Let the games begin Baby, let the games begin Let the games begin Let the games begin I, I, I see how this is gon' go Touch me and you'll never be alone I-Island breeze and lights down low No one has to know In the middle of the night, in my dreams You should see the things we do, baby In the middle of the night, in my dreams I know I'm gonna be with you So I take my time In the middle of the night Baby, let the games begin Let the games begin Let the games begin Are you ready for it? Baby, let the games begin Let the games begin Let the games begin Are you ready for it?   \n",
       "1                                                                                                                                                                                                                                                                                                                                                                                                                         It feels like a perfect night to dress up like hipsters And make fun of our exes, uh uh, uh uh It feels like a perfect night for breakfast at midnight To fall in love with strangers, uh uh, uh uh Yeah We're happy, free, confused, and lonely at the same time It's miserable and magical, oh yeah Tonight's the night when we forget about the deadlines It's time, uh uh I don't know about you, but I'm feeling 22 Everything will be alright if you keep me next to you You don't know about me, but I bet you wanted to Everything will be alright if we just keep dancing like we're 22 22 It seems like one of those nights This place is too crowded, too many cool kids, uh uh, uh uh (Who's Taylor Swift, anyway? Ew) It seems like one of those nights We ditch the whole scene and end up dreaming Instead of sleeping Yeah We're happy, free, confused, and lonely in the best way It's miserable and magical, oh yeah Tonight's the night when we forget about The heartbreaks, it's time Oh oh I don't know about you, but I'm feeling 22 Everything will be alright if you keep me next to you You don't know about me, but I bet you wanted to Everything will be alright if we just keep dancing like we're 22 22 I don't know about you 22, 22 It feels like one of those nights We ditch the whole scene It feels like one of those nights We won't be sleeping It feels like one of those nights You look like bad news, I gotta have you I gotta have you I don't know about you, but I'm feeling 22 Everything will be alright if you keep me next to you You don't know about me, but I bet you wanted to Everything will be alright if we just keep dancing like we're 22 22 Dancing like 22, yeah, 22, yeah yeah It feels like one of those nights We ditch the whole scene It feels like one of those nights We won't be sleeping It feels like one of those nights You look like bad news, I gotta have you I gotta have you   \n",
       "2                                                                                                                                                                                                                                                                                                                                                                                                                                                                                                                                                                                                                                                                                                                                                                                                                                                                                                                                                                                                                                                                                                                                                                                       Why would you wanna break a perfectly good heart? Why would you wanna take our love and tear it all apart, now? Why would you wanna make the very first scar? Why would you wanna break a perfectly good heart? Maybe I should've seen the signs, should've read the writing on the wall And realized by the distance in your eyes that I would be the one to fall No matter what you say, I still can't believe That you would walk away It don't make sense to me, but Why would you wanna break a perfectly good heart? Why would you wanna take our love and tear it all apart,now? Why would you wanna make the very first scar? Why would you wanna break a perfectly good heart? It's not unbroken anymore How do I get it back the way it was before? Why would you wanna break a perfectly good heart? Why would you wanna take our love and tear it all apart, now? Why would you wanna make the very first scar? Why would you wanna break a perfectly good heart? Why would you wanna break a perfectly good heart? Why would you wanna take our love and tear it all apart, now? Why would you wanna make the very first scar? Why would you wanna break a perfectly good heart?   \n",
       "3                                                                                                                                                                                                                                                                                                                                                                                                                                                                                                                                                                                                                                                                                                                                                                                                                                                                                                                                                                                                                                                                                                                                                                                                                                                                                I don't know what I want, so don't ask me Cause I'm still trying to figure it out Don't know what's down this road, I'm just walking Trying to see through the rain coming down Even though I'm not the only one Who feels the way I do I'm alone, on my own, and that's all I know I'll be strong, I'll be wrong, oh but life goes on Oh, I'm just a girl, trying to find a place in this world Got the radio on, my old blue jeans And I'm wearing my heart on my sleeve Feeling lucky today, got the sunshine Could you tell me what more do I need And tomorrow's just a mystery, oh yeah But that's OK I'm alone, on my own, and that's all I know I'll be strong, I'll be wrong, oh but life goes on Oh, I'm just a girl, trying to find a place in this world Maybe I'm just a girl on a mission But I'm ready to fly I'm alone, on my own, and that's all I know I'll be strong, I'll be wrong, oh but life goes on Oh I'm alone, on my own, and that's all I know Oh I'm just a girl, trying to find a place in this world Oh I'm just a girl Oh I'm just a girl, oh, oh Oh I'm just a girl   \n",
       "4  I walked through the door with you, the air was cold But something 'bout it felt like home somehow and I Left my scarf there at your sister's house And you've still got it in your drawer, even now Oh, your sweet disposition And my wide-eyed gaze We're singing in a car getting lost Upstate The autumn leaves falling down like pieces into place And I can picture it after all these days And I know it's long gone, and that magic's not here no more And I might be okay, but I'm not fine at all 'Cause there we are again on that little town street You almost ran the red 'cause you were looking over at me Wind in my hair, I was there, I remember it all too well Photo album on the counter Your cheeks were turning red You used to be a little kid with glasses in a twin-sized bed And your mother's telling stories 'bout you on the tee ball team You taught me about your past thinking your future was me And I know it's long gone, and there was nothing else I could do And I forget about you long enough to forget why I needed to 'Cause there we are again in the middle of the night We're dancing round the kitchen in the refrigerator light Down the stairs, I was there, I remember it all too well, yeah And maybe we got lost in translation Maybe I asked for too much But maybe this thing was a masterpiece 'Till you tore it all up Running scared, I was there, I remember it all too well And you call me up again just to break me like a promise So casually cruel in the name of being honest I'm a crumpled up piece of paper lying here 'Cause I remember it all, all, all... too well Time won't fly it's like I'm paralyzed by it I'd like to be my old self again But I'm still trying to find it After plaid shirt days and nights when you made me your own Now you mail back my things and I walk home alone But you keep my old scarf from that very first week 'Cause it reminds you of innocence and it smells like me You can't get rid of it, 'cause you remember it all too well, yeah Because there we are again when I loved you so Back before you lost the one real thing you've ever known It was rare, I was there, I remember it all too well Wind in my hair, you were there, you remember it all Down the stairs, you were there, you remember it all It was rare, I was there, I remember it all too well   \n",
       "\n",
       "   year  \n",
       "0  2017  \n",
       "1  2012  \n",
       "2  2006  \n",
       "3  2006  \n",
       "4  2012  "
      ]
     },
     "execution_count": 12,
     "metadata": {},
     "output_type": "execute_result"
    }
   ],
   "source": [
    "pd.options.display.max_colwidth = 5000\n",
    "songs.head()"
   ]
  },
  {
   "cell_type": "code",
   "execution_count": 11,
   "metadata": {},
   "outputs": [
    {
     "data": {
      "text/plain": [
       "94"
      ]
     },
     "execution_count": 11,
     "metadata": {},
     "output_type": "execute_result"
    }
   ],
   "source": [
    "len(songs)"
   ]
  },
  {
   "cell_type": "code",
   "execution_count": null,
   "metadata": {},
   "outputs": [],
   "source": [
    "# tf-idf term frequency-inverse document frequency:\n",
    "# idf: look at the whole corpus, and if a word occurs really frequently, we penalize it"
   ]
  },
  {
   "cell_type": "code",
   "execution_count": 13,
   "metadata": {},
   "outputs": [],
   "source": [
    "from sklearn.feature_extraction.text import TfidfVectorizer"
   ]
  },
  {
   "cell_type": "code",
   "execution_count": 14,
   "metadata": {},
   "outputs": [],
   "source": [
    "import nltk\n",
    "from nltk.corpus import stopwords"
   ]
  },
  {
   "cell_type": "code",
   "execution_count": 29,
   "metadata": {},
   "outputs": [
    {
     "name": "stdout",
     "output_type": "stream",
     "text": [
      "[nltk_data] Downloading package stopwords to /Users/coral/nltk_data...\n",
      "[nltk_data]   Package stopwords is already up-to-date!\n"
     ]
    }
   ],
   "source": [
    "nltk.download('stopwords')\n",
    "stop_words = stopwords.words('english')\n",
    "stop_words.extend(['back','said','come','things','get','oh','one','yeah','place','would','like','know','stay','go','let','cause']\n",
    ")"
   ]
  },
  {
   "cell_type": "code",
   "execution_count": 30,
   "metadata": {},
   "outputs": [],
   "source": [
    "vectorizer = TfidfVectorizer(stop_words = stop_words, min_df = 0)"
   ]
  },
  {
   "cell_type": "code",
   "execution_count": 31,
   "metadata": {},
   "outputs": [],
   "source": [
    "tfidf = vectorizer.fit_transform(songs['lyric'])"
   ]
  },
  {
   "cell_type": "code",
   "execution_count": 32,
   "metadata": {},
   "outputs": [],
   "source": [
    "from sklearn.decomposition import NMF"
   ]
  },
  {
   "cell_type": "code",
   "execution_count": 33,
   "metadata": {},
   "outputs": [],
   "source": [
    "nmf = NMF(n_components = 6)"
   ]
  },
  {
   "cell_type": "code",
   "execution_count": 34,
   "metadata": {},
   "outputs": [],
   "source": [
    "topic_values = nmf.fit_transform(tfidf)"
   ]
  },
  {
   "cell_type": "code",
   "execution_count": 35,
   "metadata": {},
   "outputs": [
    {
     "name": "stdout",
     "output_type": "stream",
     "text": [
      "Topic #1: time think want sorry last see could better never baby\n",
      "Topic #2: wanna dance good york first perfectly game break new help\n",
      "Topic #3: love beautiful way feel good bad never lights silence light\n",
      "Topic #4: girl goes uh everybody trying lucky knows works got tell\n",
      "Topic #5: ooh made whoa starlight waiting ever look soul body together\n",
      "Topic #6: la superman fifteen watch day fly beautiful away save forget\n"
     ]
    }
   ],
   "source": [
    "# find out what words NMF chose for our topics\n",
    "for topic_num, topic in enumerate(nmf.components_): \n",
    "    message = \"Topic #{}: \".format(topic_num + 1) \n",
    "    message += \" \".join([vectorizer.get_feature_names()[i] for i in topic.argsort()[:-11 :-1]])\n",
    "    print(message)"
   ]
  },
  {
   "cell_type": "code",
   "execution_count": 37,
   "metadata": {},
   "outputs": [],
   "source": [
    "# I am not entirely sure about these, tbh\n",
    "topic_labels = ['regret', 'celebration', 'love', 'hard_work', 'memories', 'escape']"
   ]
  },
  {
   "cell_type": "code",
   "execution_count": 39,
   "metadata": {},
   "outputs": [
    {
     "data": {
      "text/html": [
       "<div>\n",
       "<style scoped>\n",
       "    .dataframe tbody tr th:only-of-type {\n",
       "        vertical-align: middle;\n",
       "    }\n",
       "\n",
       "    .dataframe tbody tr th {\n",
       "        vertical-align: top;\n",
       "    }\n",
       "\n",
       "    .dataframe thead th {\n",
       "        text-align: right;\n",
       "    }\n",
       "</style>\n",
       "<table border=\"1\" class=\"dataframe\">\n",
       "  <thead>\n",
       "    <tr style=\"text-align: right;\">\n",
       "      <th></th>\n",
       "      <th>regret</th>\n",
       "      <th>celebration</th>\n",
       "      <th>love</th>\n",
       "      <th>hard_work</th>\n",
       "      <th>memories</th>\n",
       "      <th>escape</th>\n",
       "    </tr>\n",
       "  </thead>\n",
       "  <tbody>\n",
       "    <tr>\n",
       "      <th>0</th>\n",
       "      <td>0.131115</td>\n",
       "      <td>0.000000</td>\n",
       "      <td>0.043845</td>\n",
       "      <td>0.000000</td>\n",
       "      <td>0.000000</td>\n",
       "      <td>0.000000</td>\n",
       "    </tr>\n",
       "    <tr>\n",
       "      <th>1</th>\n",
       "      <td>0.006968</td>\n",
       "      <td>0.008703</td>\n",
       "      <td>0.012735</td>\n",
       "      <td>0.225842</td>\n",
       "      <td>0.006771</td>\n",
       "      <td>0.000000</td>\n",
       "    </tr>\n",
       "    <tr>\n",
       "      <th>2</th>\n",
       "      <td>0.000000</td>\n",
       "      <td>0.623045</td>\n",
       "      <td>0.000000</td>\n",
       "      <td>0.000000</td>\n",
       "      <td>0.000000</td>\n",
       "      <td>0.000000</td>\n",
       "    </tr>\n",
       "    <tr>\n",
       "      <th>3</th>\n",
       "      <td>0.000000</td>\n",
       "      <td>0.000000</td>\n",
       "      <td>0.000000</td>\n",
       "      <td>0.639392</td>\n",
       "      <td>0.000000</td>\n",
       "      <td>0.014318</td>\n",
       "    </tr>\n",
       "    <tr>\n",
       "      <th>4</th>\n",
       "      <td>0.188634</td>\n",
       "      <td>0.024992</td>\n",
       "      <td>0.000000</td>\n",
       "      <td>0.060864</td>\n",
       "      <td>0.000000</td>\n",
       "      <td>0.001923</td>\n",
       "    </tr>\n",
       "  </tbody>\n",
       "</table>\n",
       "</div>"
      ],
      "text/plain": [
       "     regret  celebration      love  hard_work  memories    escape\n",
       "0  0.131115     0.000000  0.043845   0.000000  0.000000  0.000000\n",
       "1  0.006968     0.008703  0.012735   0.225842  0.006771  0.000000\n",
       "2  0.000000     0.623045  0.000000   0.000000  0.000000  0.000000\n",
       "3  0.000000     0.000000  0.000000   0.639392  0.000000  0.014318\n",
       "4  0.188634     0.024992  0.000000   0.060864  0.000000  0.001923"
      ]
     },
     "execution_count": 39,
     "metadata": {},
     "output_type": "execute_result"
    }
   ],
   "source": [
    "df_topics = pd.DataFrame(topic_values, columns = topic_labels)\n",
    "df_topics.head()"
   ]
  },
  {
   "cell_type": "code",
   "execution_count": 40,
   "metadata": {},
   "outputs": [
    {
     "data": {
      "text/html": [
       "<div>\n",
       "<style scoped>\n",
       "    .dataframe tbody tr th:only-of-type {\n",
       "        vertical-align: middle;\n",
       "    }\n",
       "\n",
       "    .dataframe tbody tr th {\n",
       "        vertical-align: top;\n",
       "    }\n",
       "\n",
       "    .dataframe thead th {\n",
       "        text-align: right;\n",
       "    }\n",
       "</style>\n",
       "<table border=\"1\" class=\"dataframe\">\n",
       "  <thead>\n",
       "    <tr style=\"text-align: right;\">\n",
       "      <th></th>\n",
       "      <th>track_title</th>\n",
       "      <th>lyric</th>\n",
       "      <th>year</th>\n",
       "      <th>regret</th>\n",
       "      <th>celebration</th>\n",
       "      <th>love</th>\n",
       "      <th>hard_work</th>\n",
       "      <th>memories</th>\n",
       "      <th>escape</th>\n",
       "    </tr>\n",
       "  </thead>\n",
       "  <tbody>\n",
       "    <tr>\n",
       "      <th>0</th>\n",
       "      <td>...Ready for It?</td>\n",
       "      <td>Knew he was a killer first time that I saw him Wondered how many girls he had loved and left haunted But if he's a ghost, then I can be a phantom Holdin' him for ransom, some Some boys are tryin' too hard, he don't try at all though Younger than my exes, but he act like such a man, so I see nothing better, I keep him forever Like a vendetta-ta I, I, I see how this is gon' go Touch me and you'll never be alone I-Island breeze and lights down low No one has to know In the middle of the night, in my dreams You should see the things we do, baby In the middle of the night, in my dreams I know I'm gonna be with you So I take my time Are you ready for it? Knew I was a robber first time that he saw me Stealing hearts and running off and never sayin' sorry But if I'm a thief, then he can join the heist, and We'll move to an island, and And he can be my jailer, Burton to this Taylor Every love I've known in comparison is a failure I forget their names now, I'm so very tame now Never be the same now, now I, I, I see how this is gon' go Touch me and you'll never be alone I-Island breeze and lights down low No one has to know (no one has to know) In the middle of the night, in my dreams You should see the things we do, baby In the middle of the night in my dreams I know I'm gonna be with you So I take my time Are you ready for it? Oh, are you ready for it? Baby, let the games begin Let the games begin Let the games begin Baby, let the games begin Let the games begin Let the games begin I, I, I see how this is gon' go Touch me and you'll never be alone I-Island breeze and lights down low No one has to know In the middle of the night, in my dreams You should see the things we do, baby In the middle of the night, in my dreams I know I'm gonna be with you So I take my time In the middle of the night Baby, let the games begin Let the games begin Let the games begin Are you ready for it? Baby, let the games begin Let the games begin Let the games begin Are you ready for it?</td>\n",
       "      <td>2017</td>\n",
       "      <td>0.131115</td>\n",
       "      <td>0.000000</td>\n",
       "      <td>0.043845</td>\n",
       "      <td>0.000000</td>\n",
       "      <td>0.000000</td>\n",
       "      <td>0.000000</td>\n",
       "    </tr>\n",
       "    <tr>\n",
       "      <th>1</th>\n",
       "      <td>22</td>\n",
       "      <td>It feels like a perfect night to dress up like hipsters And make fun of our exes, uh uh, uh uh It feels like a perfect night for breakfast at midnight To fall in love with strangers, uh uh, uh uh Yeah We're happy, free, confused, and lonely at the same time It's miserable and magical, oh yeah Tonight's the night when we forget about the deadlines It's time, uh uh I don't know about you, but I'm feeling 22 Everything will be alright if you keep me next to you You don't know about me, but I bet you wanted to Everything will be alright if we just keep dancing like we're 22 22 It seems like one of those nights This place is too crowded, too many cool kids, uh uh, uh uh (Who's Taylor Swift, anyway? Ew) It seems like one of those nights We ditch the whole scene and end up dreaming Instead of sleeping Yeah We're happy, free, confused, and lonely in the best way It's miserable and magical, oh yeah Tonight's the night when we forget about The heartbreaks, it's time Oh oh I don't know about you, but I'm feeling 22 Everything will be alright if you keep me next to you You don't know about me, but I bet you wanted to Everything will be alright if we just keep dancing like we're 22 22 I don't know about you 22, 22 It feels like one of those nights We ditch the whole scene It feels like one of those nights We won't be sleeping It feels like one of those nights You look like bad news, I gotta have you I gotta have you I don't know about you, but I'm feeling 22 Everything will be alright if you keep me next to you You don't know about me, but I bet you wanted to Everything will be alright if we just keep dancing like we're 22 22 Dancing like 22, yeah, 22, yeah yeah It feels like one of those nights We ditch the whole scene It feels like one of those nights We won't be sleeping It feels like one of those nights You look like bad news, I gotta have you I gotta have you</td>\n",
       "      <td>2012</td>\n",
       "      <td>0.006968</td>\n",
       "      <td>0.008703</td>\n",
       "      <td>0.012735</td>\n",
       "      <td>0.225842</td>\n",
       "      <td>0.006771</td>\n",
       "      <td>0.000000</td>\n",
       "    </tr>\n",
       "    <tr>\n",
       "      <th>2</th>\n",
       "      <td>A Perfectly Good Heart</td>\n",
       "      <td>Why would you wanna break a perfectly good heart? Why would you wanna take our love and tear it all apart, now? Why would you wanna make the very first scar? Why would you wanna break a perfectly good heart? Maybe I should've seen the signs, should've read the writing on the wall And realized by the distance in your eyes that I would be the one to fall No matter what you say, I still can't believe That you would walk away It don't make sense to me, but Why would you wanna break a perfectly good heart? Why would you wanna take our love and tear it all apart,now? Why would you wanna make the very first scar? Why would you wanna break a perfectly good heart? It's not unbroken anymore How do I get it back the way it was before? Why would you wanna break a perfectly good heart? Why would you wanna take our love and tear it all apart, now? Why would you wanna make the very first scar? Why would you wanna break a perfectly good heart? Why would you wanna break a perfectly good heart? Why would you wanna take our love and tear it all apart, now? Why would you wanna make the very first scar? Why would you wanna break a perfectly good heart?</td>\n",
       "      <td>2006</td>\n",
       "      <td>0.000000</td>\n",
       "      <td>0.623045</td>\n",
       "      <td>0.000000</td>\n",
       "      <td>0.000000</td>\n",
       "      <td>0.000000</td>\n",
       "      <td>0.000000</td>\n",
       "    </tr>\n",
       "    <tr>\n",
       "      <th>3</th>\n",
       "      <td>A Place In This World</td>\n",
       "      <td>I don't know what I want, so don't ask me Cause I'm still trying to figure it out Don't know what's down this road, I'm just walking Trying to see through the rain coming down Even though I'm not the only one Who feels the way I do I'm alone, on my own, and that's all I know I'll be strong, I'll be wrong, oh but life goes on Oh, I'm just a girl, trying to find a place in this world Got the radio on, my old blue jeans And I'm wearing my heart on my sleeve Feeling lucky today, got the sunshine Could you tell me what more do I need And tomorrow's just a mystery, oh yeah But that's OK I'm alone, on my own, and that's all I know I'll be strong, I'll be wrong, oh but life goes on Oh, I'm just a girl, trying to find a place in this world Maybe I'm just a girl on a mission But I'm ready to fly I'm alone, on my own, and that's all I know I'll be strong, I'll be wrong, oh but life goes on Oh I'm alone, on my own, and that's all I know Oh I'm just a girl, trying to find a place in this world Oh I'm just a girl Oh I'm just a girl, oh, oh Oh I'm just a girl</td>\n",
       "      <td>2006</td>\n",
       "      <td>0.000000</td>\n",
       "      <td>0.000000</td>\n",
       "      <td>0.000000</td>\n",
       "      <td>0.639392</td>\n",
       "      <td>0.000000</td>\n",
       "      <td>0.014318</td>\n",
       "    </tr>\n",
       "    <tr>\n",
       "      <th>4</th>\n",
       "      <td>All Too Well</td>\n",
       "      <td>I walked through the door with you, the air was cold But something 'bout it felt like home somehow and I Left my scarf there at your sister's house And you've still got it in your drawer, even now Oh, your sweet disposition And my wide-eyed gaze We're singing in a car getting lost Upstate The autumn leaves falling down like pieces into place And I can picture it after all these days And I know it's long gone, and that magic's not here no more And I might be okay, but I'm not fine at all 'Cause there we are again on that little town street You almost ran the red 'cause you were looking over at me Wind in my hair, I was there, I remember it all too well Photo album on the counter Your cheeks were turning red You used to be a little kid with glasses in a twin-sized bed And your mother's telling stories 'bout you on the tee ball team You taught me about your past thinking your future was me And I know it's long gone, and there was nothing else I could do And I forget about you long enough to forget why I needed to 'Cause there we are again in the middle of the night We're dancing round the kitchen in the refrigerator light Down the stairs, I was there, I remember it all too well, yeah And maybe we got lost in translation Maybe I asked for too much But maybe this thing was a masterpiece 'Till you tore it all up Running scared, I was there, I remember it all too well And you call me up again just to break me like a promise So casually cruel in the name of being honest I'm a crumpled up piece of paper lying here 'Cause I remember it all, all, all... too well Time won't fly it's like I'm paralyzed by it I'd like to be my old self again But I'm still trying to find it After plaid shirt days and nights when you made me your own Now you mail back my things and I walk home alone But you keep my old scarf from that very first week 'Cause it reminds you of innocence and it smells like me You can't get rid of it, 'cause you remember it all too well, yeah Because there we are again when I loved you so Back before you lost the one real thing you've ever known It was rare, I was there, I remember it all too well Wind in my hair, you were there, you remember it all Down the stairs, you were there, you remember it all It was rare, I was there, I remember it all too well</td>\n",
       "      <td>2012</td>\n",
       "      <td>0.188634</td>\n",
       "      <td>0.024992</td>\n",
       "      <td>0.000000</td>\n",
       "      <td>0.060864</td>\n",
       "      <td>0.000000</td>\n",
       "      <td>0.001923</td>\n",
       "    </tr>\n",
       "  </tbody>\n",
       "</table>\n",
       "</div>"
      ],
      "text/plain": [
       "              track_title  \\\n",
       "0        ...Ready for It?   \n",
       "1                      22   \n",
       "2  A Perfectly Good Heart   \n",
       "3   A Place In This World   \n",
       "4            All Too Well   \n",
       "\n",
       "                                                                                                                                                                                                                                                                                                                                                                                                                                                                                                                                                                                                                                                                                                                                                                                                                                                                                                                                                                                                                                                                                                                                                                                                                                                                                                                                                                                                                                                                                                                                                                                                                                                                                                                                                                                                                                                                                                                                                                                                                                                                                                                                                                                                                                                                                                                                                                                lyric  \\\n",
       "0                                                                                                                                                                                                                                                                                                               Knew he was a killer first time that I saw him Wondered how many girls he had loved and left haunted But if he's a ghost, then I can be a phantom Holdin' him for ransom, some Some boys are tryin' too hard, he don't try at all though Younger than my exes, but he act like such a man, so I see nothing better, I keep him forever Like a vendetta-ta I, I, I see how this is gon' go Touch me and you'll never be alone I-Island breeze and lights down low No one has to know In the middle of the night, in my dreams You should see the things we do, baby In the middle of the night, in my dreams I know I'm gonna be with you So I take my time Are you ready for it? Knew I was a robber first time that he saw me Stealing hearts and running off and never sayin' sorry But if I'm a thief, then he can join the heist, and We'll move to an island, and And he can be my jailer, Burton to this Taylor Every love I've known in comparison is a failure I forget their names now, I'm so very tame now Never be the same now, now I, I, I see how this is gon' go Touch me and you'll never be alone I-Island breeze and lights down low No one has to know (no one has to know) In the middle of the night, in my dreams You should see the things we do, baby In the middle of the night in my dreams I know I'm gonna be with you So I take my time Are you ready for it? Oh, are you ready for it? Baby, let the games begin Let the games begin Let the games begin Baby, let the games begin Let the games begin Let the games begin I, I, I see how this is gon' go Touch me and you'll never be alone I-Island breeze and lights down low No one has to know In the middle of the night, in my dreams You should see the things we do, baby In the middle of the night, in my dreams I know I'm gonna be with you So I take my time In the middle of the night Baby, let the games begin Let the games begin Let the games begin Are you ready for it? Baby, let the games begin Let the games begin Let the games begin Are you ready for it?   \n",
       "1                                                                                                                                                                                                                                                                                                                                                                                                                         It feels like a perfect night to dress up like hipsters And make fun of our exes, uh uh, uh uh It feels like a perfect night for breakfast at midnight To fall in love with strangers, uh uh, uh uh Yeah We're happy, free, confused, and lonely at the same time It's miserable and magical, oh yeah Tonight's the night when we forget about the deadlines It's time, uh uh I don't know about you, but I'm feeling 22 Everything will be alright if you keep me next to you You don't know about me, but I bet you wanted to Everything will be alright if we just keep dancing like we're 22 22 It seems like one of those nights This place is too crowded, too many cool kids, uh uh, uh uh (Who's Taylor Swift, anyway? Ew) It seems like one of those nights We ditch the whole scene and end up dreaming Instead of sleeping Yeah We're happy, free, confused, and lonely in the best way It's miserable and magical, oh yeah Tonight's the night when we forget about The heartbreaks, it's time Oh oh I don't know about you, but I'm feeling 22 Everything will be alright if you keep me next to you You don't know about me, but I bet you wanted to Everything will be alright if we just keep dancing like we're 22 22 I don't know about you 22, 22 It feels like one of those nights We ditch the whole scene It feels like one of those nights We won't be sleeping It feels like one of those nights You look like bad news, I gotta have you I gotta have you I don't know about you, but I'm feeling 22 Everything will be alright if you keep me next to you You don't know about me, but I bet you wanted to Everything will be alright if we just keep dancing like we're 22 22 Dancing like 22, yeah, 22, yeah yeah It feels like one of those nights We ditch the whole scene It feels like one of those nights We won't be sleeping It feels like one of those nights You look like bad news, I gotta have you I gotta have you   \n",
       "2                                                                                                                                                                                                                                                                                                                                                                                                                                                                                                                                                                                                                                                                                                                                                                                                                                                                                                                                                                                                                                                                                                                                                                                       Why would you wanna break a perfectly good heart? Why would you wanna take our love and tear it all apart, now? Why would you wanna make the very first scar? Why would you wanna break a perfectly good heart? Maybe I should've seen the signs, should've read the writing on the wall And realized by the distance in your eyes that I would be the one to fall No matter what you say, I still can't believe That you would walk away It don't make sense to me, but Why would you wanna break a perfectly good heart? Why would you wanna take our love and tear it all apart,now? Why would you wanna make the very first scar? Why would you wanna break a perfectly good heart? It's not unbroken anymore How do I get it back the way it was before? Why would you wanna break a perfectly good heart? Why would you wanna take our love and tear it all apart, now? Why would you wanna make the very first scar? Why would you wanna break a perfectly good heart? Why would you wanna break a perfectly good heart? Why would you wanna take our love and tear it all apart, now? Why would you wanna make the very first scar? Why would you wanna break a perfectly good heart?   \n",
       "3                                                                                                                                                                                                                                                                                                                                                                                                                                                                                                                                                                                                                                                                                                                                                                                                                                                                                                                                                                                                                                                                                                                                                                                                                                                                                I don't know what I want, so don't ask me Cause I'm still trying to figure it out Don't know what's down this road, I'm just walking Trying to see through the rain coming down Even though I'm not the only one Who feels the way I do I'm alone, on my own, and that's all I know I'll be strong, I'll be wrong, oh but life goes on Oh, I'm just a girl, trying to find a place in this world Got the radio on, my old blue jeans And I'm wearing my heart on my sleeve Feeling lucky today, got the sunshine Could you tell me what more do I need And tomorrow's just a mystery, oh yeah But that's OK I'm alone, on my own, and that's all I know I'll be strong, I'll be wrong, oh but life goes on Oh, I'm just a girl, trying to find a place in this world Maybe I'm just a girl on a mission But I'm ready to fly I'm alone, on my own, and that's all I know I'll be strong, I'll be wrong, oh but life goes on Oh I'm alone, on my own, and that's all I know Oh I'm just a girl, trying to find a place in this world Oh I'm just a girl Oh I'm just a girl, oh, oh Oh I'm just a girl   \n",
       "4  I walked through the door with you, the air was cold But something 'bout it felt like home somehow and I Left my scarf there at your sister's house And you've still got it in your drawer, even now Oh, your sweet disposition And my wide-eyed gaze We're singing in a car getting lost Upstate The autumn leaves falling down like pieces into place And I can picture it after all these days And I know it's long gone, and that magic's not here no more And I might be okay, but I'm not fine at all 'Cause there we are again on that little town street You almost ran the red 'cause you were looking over at me Wind in my hair, I was there, I remember it all too well Photo album on the counter Your cheeks were turning red You used to be a little kid with glasses in a twin-sized bed And your mother's telling stories 'bout you on the tee ball team You taught me about your past thinking your future was me And I know it's long gone, and there was nothing else I could do And I forget about you long enough to forget why I needed to 'Cause there we are again in the middle of the night We're dancing round the kitchen in the refrigerator light Down the stairs, I was there, I remember it all too well, yeah And maybe we got lost in translation Maybe I asked for too much But maybe this thing was a masterpiece 'Till you tore it all up Running scared, I was there, I remember it all too well And you call me up again just to break me like a promise So casually cruel in the name of being honest I'm a crumpled up piece of paper lying here 'Cause I remember it all, all, all... too well Time won't fly it's like I'm paralyzed by it I'd like to be my old self again But I'm still trying to find it After plaid shirt days and nights when you made me your own Now you mail back my things and I walk home alone But you keep my old scarf from that very first week 'Cause it reminds you of innocence and it smells like me You can't get rid of it, 'cause you remember it all too well, yeah Because there we are again when I loved you so Back before you lost the one real thing you've ever known It was rare, I was there, I remember it all too well Wind in my hair, you were there, you remember it all Down the stairs, you were there, you remember it all It was rare, I was there, I remember it all too well   \n",
       "\n",
       "   year    regret  celebration      love  hard_work  memories    escape  \n",
       "0  2017  0.131115     0.000000  0.043845   0.000000  0.000000  0.000000  \n",
       "1  2012  0.006968     0.008703  0.012735   0.225842  0.006771  0.000000  \n",
       "2  2006  0.000000     0.623045  0.000000   0.000000  0.000000  0.000000  \n",
       "3  2006  0.000000     0.000000  0.000000   0.639392  0.000000  0.014318  \n",
       "4  2012  0.188634     0.024992  0.000000   0.060864  0.000000  0.001923  "
      ]
     },
     "execution_count": 40,
     "metadata": {},
     "output_type": "execute_result"
    }
   ],
   "source": [
    "songs = songs.join(df_topics)\n",
    "songs.head()"
   ]
  },
  {
   "cell_type": "code",
   "execution_count": 44,
   "metadata": {},
   "outputs": [],
   "source": [
    "# setting whether or not a topic is present in a song, with a threshold of .1\n",
    "for label in topic_labels:\n",
    "    songs.loc[songs[label] >= .1, label] = 1\n",
    "    songs.loc[songs[label] < .1, label] = 0"
   ]
  },
  {
   "cell_type": "code",
   "execution_count": 45,
   "metadata": {},
   "outputs": [
    {
     "data": {
      "text/html": [
       "<div>\n",
       "<style scoped>\n",
       "    .dataframe tbody tr th:only-of-type {\n",
       "        vertical-align: middle;\n",
       "    }\n",
       "\n",
       "    .dataframe tbody tr th {\n",
       "        vertical-align: top;\n",
       "    }\n",
       "\n",
       "    .dataframe thead th {\n",
       "        text-align: right;\n",
       "    }\n",
       "</style>\n",
       "<table border=\"1\" class=\"dataframe\">\n",
       "  <thead>\n",
       "    <tr style=\"text-align: right;\">\n",
       "      <th></th>\n",
       "      <th>track_title</th>\n",
       "      <th>lyric</th>\n",
       "      <th>year</th>\n",
       "      <th>regret</th>\n",
       "      <th>celebration</th>\n",
       "      <th>love</th>\n",
       "      <th>hard_work</th>\n",
       "      <th>memories</th>\n",
       "      <th>escape</th>\n",
       "    </tr>\n",
       "  </thead>\n",
       "  <tbody>\n",
       "    <tr>\n",
       "      <th>0</th>\n",
       "      <td>...Ready for It?</td>\n",
       "      <td>Knew he was a killer first time that I saw him Wondered how many girls he had loved and left haunted But if he's a ghost, then I can be a phantom Holdin' him for ransom, some Some boys are tryin' too hard, he don't try at all though Younger than my exes, but he act like such a man, so I see nothing better, I keep him forever Like a vendetta-ta I, I, I see how this is gon' go Touch me and you'll never be alone I-Island breeze and lights down low No one has to know In the middle of the night, in my dreams You should see the things we do, baby In the middle of the night, in my dreams I know I'm gonna be with you So I take my time Are you ready for it? Knew I was a robber first time that he saw me Stealing hearts and running off and never sayin' sorry But if I'm a thief, then he can join the heist, and We'll move to an island, and And he can be my jailer, Burton to this Taylor Every love I've known in comparison is a failure I forget their names now, I'm so very tame now Never be the same now, now I, I, I see how this is gon' go Touch me and you'll never be alone I-Island breeze and lights down low No one has to know (no one has to know) In the middle of the night, in my dreams You should see the things we do, baby In the middle of the night in my dreams I know I'm gonna be with you So I take my time Are you ready for it? Oh, are you ready for it? Baby, let the games begin Let the games begin Let the games begin Baby, let the games begin Let the games begin Let the games begin I, I, I see how this is gon' go Touch me and you'll never be alone I-Island breeze and lights down low No one has to know In the middle of the night, in my dreams You should see the things we do, baby In the middle of the night, in my dreams I know I'm gonna be with you So I take my time In the middle of the night Baby, let the games begin Let the games begin Let the games begin Are you ready for it? Baby, let the games begin Let the games begin Let the games begin Are you ready for it?</td>\n",
       "      <td>2017</td>\n",
       "      <td>1.0</td>\n",
       "      <td>0.0</td>\n",
       "      <td>0.0</td>\n",
       "      <td>0.0</td>\n",
       "      <td>0.0</td>\n",
       "      <td>0.0</td>\n",
       "    </tr>\n",
       "    <tr>\n",
       "      <th>1</th>\n",
       "      <td>22</td>\n",
       "      <td>It feels like a perfect night to dress up like hipsters And make fun of our exes, uh uh, uh uh It feels like a perfect night for breakfast at midnight To fall in love with strangers, uh uh, uh uh Yeah We're happy, free, confused, and lonely at the same time It's miserable and magical, oh yeah Tonight's the night when we forget about the deadlines It's time, uh uh I don't know about you, but I'm feeling 22 Everything will be alright if you keep me next to you You don't know about me, but I bet you wanted to Everything will be alright if we just keep dancing like we're 22 22 It seems like one of those nights This place is too crowded, too many cool kids, uh uh, uh uh (Who's Taylor Swift, anyway? Ew) It seems like one of those nights We ditch the whole scene and end up dreaming Instead of sleeping Yeah We're happy, free, confused, and lonely in the best way It's miserable and magical, oh yeah Tonight's the night when we forget about The heartbreaks, it's time Oh oh I don't know about you, but I'm feeling 22 Everything will be alright if you keep me next to you You don't know about me, but I bet you wanted to Everything will be alright if we just keep dancing like we're 22 22 I don't know about you 22, 22 It feels like one of those nights We ditch the whole scene It feels like one of those nights We won't be sleeping It feels like one of those nights You look like bad news, I gotta have you I gotta have you I don't know about you, but I'm feeling 22 Everything will be alright if you keep me next to you You don't know about me, but I bet you wanted to Everything will be alright if we just keep dancing like we're 22 22 Dancing like 22, yeah, 22, yeah yeah It feels like one of those nights We ditch the whole scene It feels like one of those nights We won't be sleeping It feels like one of those nights You look like bad news, I gotta have you I gotta have you</td>\n",
       "      <td>2012</td>\n",
       "      <td>0.0</td>\n",
       "      <td>0.0</td>\n",
       "      <td>0.0</td>\n",
       "      <td>1.0</td>\n",
       "      <td>0.0</td>\n",
       "      <td>0.0</td>\n",
       "    </tr>\n",
       "    <tr>\n",
       "      <th>2</th>\n",
       "      <td>A Perfectly Good Heart</td>\n",
       "      <td>Why would you wanna break a perfectly good heart? Why would you wanna take our love and tear it all apart, now? Why would you wanna make the very first scar? Why would you wanna break a perfectly good heart? Maybe I should've seen the signs, should've read the writing on the wall And realized by the distance in your eyes that I would be the one to fall No matter what you say, I still can't believe That you would walk away It don't make sense to me, but Why would you wanna break a perfectly good heart? Why would you wanna take our love and tear it all apart,now? Why would you wanna make the very first scar? Why would you wanna break a perfectly good heart? It's not unbroken anymore How do I get it back the way it was before? Why would you wanna break a perfectly good heart? Why would you wanna take our love and tear it all apart, now? Why would you wanna make the very first scar? Why would you wanna break a perfectly good heart? Why would you wanna break a perfectly good heart? Why would you wanna take our love and tear it all apart, now? Why would you wanna make the very first scar? Why would you wanna break a perfectly good heart?</td>\n",
       "      <td>2006</td>\n",
       "      <td>0.0</td>\n",
       "      <td>1.0</td>\n",
       "      <td>0.0</td>\n",
       "      <td>0.0</td>\n",
       "      <td>0.0</td>\n",
       "      <td>0.0</td>\n",
       "    </tr>\n",
       "    <tr>\n",
       "      <th>3</th>\n",
       "      <td>A Place In This World</td>\n",
       "      <td>I don't know what I want, so don't ask me Cause I'm still trying to figure it out Don't know what's down this road, I'm just walking Trying to see through the rain coming down Even though I'm not the only one Who feels the way I do I'm alone, on my own, and that's all I know I'll be strong, I'll be wrong, oh but life goes on Oh, I'm just a girl, trying to find a place in this world Got the radio on, my old blue jeans And I'm wearing my heart on my sleeve Feeling lucky today, got the sunshine Could you tell me what more do I need And tomorrow's just a mystery, oh yeah But that's OK I'm alone, on my own, and that's all I know I'll be strong, I'll be wrong, oh but life goes on Oh, I'm just a girl, trying to find a place in this world Maybe I'm just a girl on a mission But I'm ready to fly I'm alone, on my own, and that's all I know I'll be strong, I'll be wrong, oh but life goes on Oh I'm alone, on my own, and that's all I know Oh I'm just a girl, trying to find a place in this world Oh I'm just a girl Oh I'm just a girl, oh, oh Oh I'm just a girl</td>\n",
       "      <td>2006</td>\n",
       "      <td>0.0</td>\n",
       "      <td>0.0</td>\n",
       "      <td>0.0</td>\n",
       "      <td>1.0</td>\n",
       "      <td>0.0</td>\n",
       "      <td>0.0</td>\n",
       "    </tr>\n",
       "    <tr>\n",
       "      <th>4</th>\n",
       "      <td>All Too Well</td>\n",
       "      <td>I walked through the door with you, the air was cold But something 'bout it felt like home somehow and I Left my scarf there at your sister's house And you've still got it in your drawer, even now Oh, your sweet disposition And my wide-eyed gaze We're singing in a car getting lost Upstate The autumn leaves falling down like pieces into place And I can picture it after all these days And I know it's long gone, and that magic's not here no more And I might be okay, but I'm not fine at all 'Cause there we are again on that little town street You almost ran the red 'cause you were looking over at me Wind in my hair, I was there, I remember it all too well Photo album on the counter Your cheeks were turning red You used to be a little kid with glasses in a twin-sized bed And your mother's telling stories 'bout you on the tee ball team You taught me about your past thinking your future was me And I know it's long gone, and there was nothing else I could do And I forget about you long enough to forget why I needed to 'Cause there we are again in the middle of the night We're dancing round the kitchen in the refrigerator light Down the stairs, I was there, I remember it all too well, yeah And maybe we got lost in translation Maybe I asked for too much But maybe this thing was a masterpiece 'Till you tore it all up Running scared, I was there, I remember it all too well And you call me up again just to break me like a promise So casually cruel in the name of being honest I'm a crumpled up piece of paper lying here 'Cause I remember it all, all, all... too well Time won't fly it's like I'm paralyzed by it I'd like to be my old self again But I'm still trying to find it After plaid shirt days and nights when you made me your own Now you mail back my things and I walk home alone But you keep my old scarf from that very first week 'Cause it reminds you of innocence and it smells like me You can't get rid of it, 'cause you remember it all too well, yeah Because there we are again when I loved you so Back before you lost the one real thing you've ever known It was rare, I was there, I remember it all too well Wind in my hair, you were there, you remember it all Down the stairs, you were there, you remember it all It was rare, I was there, I remember it all too well</td>\n",
       "      <td>2012</td>\n",
       "      <td>1.0</td>\n",
       "      <td>0.0</td>\n",
       "      <td>0.0</td>\n",
       "      <td>0.0</td>\n",
       "      <td>0.0</td>\n",
       "      <td>0.0</td>\n",
       "    </tr>\n",
       "  </tbody>\n",
       "</table>\n",
       "</div>"
      ],
      "text/plain": [
       "              track_title  \\\n",
       "0        ...Ready for It?   \n",
       "1                      22   \n",
       "2  A Perfectly Good Heart   \n",
       "3   A Place In This World   \n",
       "4            All Too Well   \n",
       "\n",
       "                                                                                                                                                                                                                                                                                                                                                                                                                                                                                                                                                                                                                                                                                                                                                                                                                                                                                                                                                                                                                                                                                                                                                                                                                                                                                                                                                                                                                                                                                                                                                                                                                                                                                                                                                                                                                                                                                                                                                                                                                                                                                                                                                                                                                                                                                                                                                                                lyric  \\\n",
       "0                                                                                                                                                                                                                                                                                                               Knew he was a killer first time that I saw him Wondered how many girls he had loved and left haunted But if he's a ghost, then I can be a phantom Holdin' him for ransom, some Some boys are tryin' too hard, he don't try at all though Younger than my exes, but he act like such a man, so I see nothing better, I keep him forever Like a vendetta-ta I, I, I see how this is gon' go Touch me and you'll never be alone I-Island breeze and lights down low No one has to know In the middle of the night, in my dreams You should see the things we do, baby In the middle of the night, in my dreams I know I'm gonna be with you So I take my time Are you ready for it? Knew I was a robber first time that he saw me Stealing hearts and running off and never sayin' sorry But if I'm a thief, then he can join the heist, and We'll move to an island, and And he can be my jailer, Burton to this Taylor Every love I've known in comparison is a failure I forget their names now, I'm so very tame now Never be the same now, now I, I, I see how this is gon' go Touch me and you'll never be alone I-Island breeze and lights down low No one has to know (no one has to know) In the middle of the night, in my dreams You should see the things we do, baby In the middle of the night in my dreams I know I'm gonna be with you So I take my time Are you ready for it? Oh, are you ready for it? Baby, let the games begin Let the games begin Let the games begin Baby, let the games begin Let the games begin Let the games begin I, I, I see how this is gon' go Touch me and you'll never be alone I-Island breeze and lights down low No one has to know In the middle of the night, in my dreams You should see the things we do, baby In the middle of the night, in my dreams I know I'm gonna be with you So I take my time In the middle of the night Baby, let the games begin Let the games begin Let the games begin Are you ready for it? Baby, let the games begin Let the games begin Let the games begin Are you ready for it?   \n",
       "1                                                                                                                                                                                                                                                                                                                                                                                                                         It feels like a perfect night to dress up like hipsters And make fun of our exes, uh uh, uh uh It feels like a perfect night for breakfast at midnight To fall in love with strangers, uh uh, uh uh Yeah We're happy, free, confused, and lonely at the same time It's miserable and magical, oh yeah Tonight's the night when we forget about the deadlines It's time, uh uh I don't know about you, but I'm feeling 22 Everything will be alright if you keep me next to you You don't know about me, but I bet you wanted to Everything will be alright if we just keep dancing like we're 22 22 It seems like one of those nights This place is too crowded, too many cool kids, uh uh, uh uh (Who's Taylor Swift, anyway? Ew) It seems like one of those nights We ditch the whole scene and end up dreaming Instead of sleeping Yeah We're happy, free, confused, and lonely in the best way It's miserable and magical, oh yeah Tonight's the night when we forget about The heartbreaks, it's time Oh oh I don't know about you, but I'm feeling 22 Everything will be alright if you keep me next to you You don't know about me, but I bet you wanted to Everything will be alright if we just keep dancing like we're 22 22 I don't know about you 22, 22 It feels like one of those nights We ditch the whole scene It feels like one of those nights We won't be sleeping It feels like one of those nights You look like bad news, I gotta have you I gotta have you I don't know about you, but I'm feeling 22 Everything will be alright if you keep me next to you You don't know about me, but I bet you wanted to Everything will be alright if we just keep dancing like we're 22 22 Dancing like 22, yeah, 22, yeah yeah It feels like one of those nights We ditch the whole scene It feels like one of those nights We won't be sleeping It feels like one of those nights You look like bad news, I gotta have you I gotta have you   \n",
       "2                                                                                                                                                                                                                                                                                                                                                                                                                                                                                                                                                                                                                                                                                                                                                                                                                                                                                                                                                                                                                                                                                                                                                                                       Why would you wanna break a perfectly good heart? Why would you wanna take our love and tear it all apart, now? Why would you wanna make the very first scar? Why would you wanna break a perfectly good heart? Maybe I should've seen the signs, should've read the writing on the wall And realized by the distance in your eyes that I would be the one to fall No matter what you say, I still can't believe That you would walk away It don't make sense to me, but Why would you wanna break a perfectly good heart? Why would you wanna take our love and tear it all apart,now? Why would you wanna make the very first scar? Why would you wanna break a perfectly good heart? It's not unbroken anymore How do I get it back the way it was before? Why would you wanna break a perfectly good heart? Why would you wanna take our love and tear it all apart, now? Why would you wanna make the very first scar? Why would you wanna break a perfectly good heart? Why would you wanna break a perfectly good heart? Why would you wanna take our love and tear it all apart, now? Why would you wanna make the very first scar? Why would you wanna break a perfectly good heart?   \n",
       "3                                                                                                                                                                                                                                                                                                                                                                                                                                                                                                                                                                                                                                                                                                                                                                                                                                                                                                                                                                                                                                                                                                                                                                                                                                                                                I don't know what I want, so don't ask me Cause I'm still trying to figure it out Don't know what's down this road, I'm just walking Trying to see through the rain coming down Even though I'm not the only one Who feels the way I do I'm alone, on my own, and that's all I know I'll be strong, I'll be wrong, oh but life goes on Oh, I'm just a girl, trying to find a place in this world Got the radio on, my old blue jeans And I'm wearing my heart on my sleeve Feeling lucky today, got the sunshine Could you tell me what more do I need And tomorrow's just a mystery, oh yeah But that's OK I'm alone, on my own, and that's all I know I'll be strong, I'll be wrong, oh but life goes on Oh, I'm just a girl, trying to find a place in this world Maybe I'm just a girl on a mission But I'm ready to fly I'm alone, on my own, and that's all I know I'll be strong, I'll be wrong, oh but life goes on Oh I'm alone, on my own, and that's all I know Oh I'm just a girl, trying to find a place in this world Oh I'm just a girl Oh I'm just a girl, oh, oh Oh I'm just a girl   \n",
       "4  I walked through the door with you, the air was cold But something 'bout it felt like home somehow and I Left my scarf there at your sister's house And you've still got it in your drawer, even now Oh, your sweet disposition And my wide-eyed gaze We're singing in a car getting lost Upstate The autumn leaves falling down like pieces into place And I can picture it after all these days And I know it's long gone, and that magic's not here no more And I might be okay, but I'm not fine at all 'Cause there we are again on that little town street You almost ran the red 'cause you were looking over at me Wind in my hair, I was there, I remember it all too well Photo album on the counter Your cheeks were turning red You used to be a little kid with glasses in a twin-sized bed And your mother's telling stories 'bout you on the tee ball team You taught me about your past thinking your future was me And I know it's long gone, and there was nothing else I could do And I forget about you long enough to forget why I needed to 'Cause there we are again in the middle of the night We're dancing round the kitchen in the refrigerator light Down the stairs, I was there, I remember it all too well, yeah And maybe we got lost in translation Maybe I asked for too much But maybe this thing was a masterpiece 'Till you tore it all up Running scared, I was there, I remember it all too well And you call me up again just to break me like a promise So casually cruel in the name of being honest I'm a crumpled up piece of paper lying here 'Cause I remember it all, all, all... too well Time won't fly it's like I'm paralyzed by it I'd like to be my old self again But I'm still trying to find it After plaid shirt days and nights when you made me your own Now you mail back my things and I walk home alone But you keep my old scarf from that very first week 'Cause it reminds you of innocence and it smells like me You can't get rid of it, 'cause you remember it all too well, yeah Because there we are again when I loved you so Back before you lost the one real thing you've ever known It was rare, I was there, I remember it all too well Wind in my hair, you were there, you remember it all Down the stairs, you were there, you remember it all It was rare, I was there, I remember it all too well   \n",
       "\n",
       "   year  regret  celebration  love  hard_work  memories  escape  \n",
       "0  2017     1.0          0.0   0.0        0.0       0.0     0.0  \n",
       "1  2012     0.0          0.0   0.0        1.0       0.0     0.0  \n",
       "2  2006     0.0          1.0   0.0        0.0       0.0     0.0  \n",
       "3  2006     0.0          0.0   0.0        1.0       0.0     0.0  \n",
       "4  2012     1.0          0.0   0.0        0.0       0.0     0.0  "
      ]
     },
     "execution_count": 45,
     "metadata": {},
     "output_type": "execute_result"
    }
   ],
   "source": [
    "songs.head()"
   ]
  },
  {
   "cell_type": "code",
   "execution_count": 47,
   "metadata": {},
   "outputs": [
    {
     "data": {
      "text/html": [
       "<div>\n",
       "<style scoped>\n",
       "    .dataframe tbody tr th:only-of-type {\n",
       "        vertical-align: middle;\n",
       "    }\n",
       "\n",
       "    .dataframe tbody tr th {\n",
       "        vertical-align: top;\n",
       "    }\n",
       "\n",
       "    .dataframe thead th {\n",
       "        text-align: right;\n",
       "    }\n",
       "</style>\n",
       "<table border=\"1\" class=\"dataframe\">\n",
       "  <thead>\n",
       "    <tr style=\"text-align: right;\">\n",
       "      <th></th>\n",
       "      <th>year</th>\n",
       "      <th>regret</th>\n",
       "      <th>celebration</th>\n",
       "      <th>love</th>\n",
       "      <th>hard_work</th>\n",
       "      <th>memories</th>\n",
       "      <th>escape</th>\n",
       "    </tr>\n",
       "  </thead>\n",
       "  <tbody>\n",
       "    <tr>\n",
       "      <th>0</th>\n",
       "      <td>2006</td>\n",
       "      <td>5.0</td>\n",
       "      <td>2.0</td>\n",
       "      <td>5.0</td>\n",
       "      <td>3.0</td>\n",
       "      <td>0.0</td>\n",
       "      <td>2.0</td>\n",
       "    </tr>\n",
       "    <tr>\n",
       "      <th>1</th>\n",
       "      <td>2008</td>\n",
       "      <td>7.0</td>\n",
       "      <td>2.0</td>\n",
       "      <td>4.0</td>\n",
       "      <td>0.0</td>\n",
       "      <td>0.0</td>\n",
       "      <td>2.0</td>\n",
       "    </tr>\n",
       "    <tr>\n",
       "      <th>2</th>\n",
       "      <td>2010</td>\n",
       "      <td>10.0</td>\n",
       "      <td>0.0</td>\n",
       "      <td>5.0</td>\n",
       "      <td>2.0</td>\n",
       "      <td>2.0</td>\n",
       "      <td>3.0</td>\n",
       "    </tr>\n",
       "    <tr>\n",
       "      <th>3</th>\n",
       "      <td>2012</td>\n",
       "      <td>7.0</td>\n",
       "      <td>2.0</td>\n",
       "      <td>2.0</td>\n",
       "      <td>4.0</td>\n",
       "      <td>2.0</td>\n",
       "      <td>0.0</td>\n",
       "    </tr>\n",
       "    <tr>\n",
       "      <th>4</th>\n",
       "      <td>2014</td>\n",
       "      <td>3.0</td>\n",
       "      <td>1.0</td>\n",
       "      <td>5.0</td>\n",
       "      <td>2.0</td>\n",
       "      <td>2.0</td>\n",
       "      <td>0.0</td>\n",
       "    </tr>\n",
       "    <tr>\n",
       "      <th>5</th>\n",
       "      <td>2017</td>\n",
       "      <td>5.0</td>\n",
       "      <td>2.0</td>\n",
       "      <td>4.0</td>\n",
       "      <td>1.0</td>\n",
       "      <td>3.0</td>\n",
       "      <td>0.0</td>\n",
       "    </tr>\n",
       "  </tbody>\n",
       "</table>\n",
       "</div>"
      ],
      "text/plain": [
       "   year  regret  celebration  love  hard_work  memories  escape\n",
       "0  2006     5.0          2.0   5.0        3.0       0.0     2.0\n",
       "1  2008     7.0          2.0   4.0        0.0       0.0     2.0\n",
       "2  2010    10.0          0.0   5.0        2.0       2.0     3.0\n",
       "3  2012     7.0          2.0   2.0        4.0       2.0     0.0\n",
       "4  2014     3.0          1.0   5.0        2.0       2.0     0.0\n",
       "5  2017     5.0          2.0   4.0        1.0       3.0     0.0"
      ]
     },
     "execution_count": 47,
     "metadata": {},
     "output_type": "execute_result"
    }
   ],
   "source": [
    "# we're looking at change over time so\n",
    "year_topics = songs.groupby('year').sum().reset_index()\n",
    "year_topics"
   ]
  },
  {
   "cell_type": "code",
   "execution_count": 48,
   "metadata": {},
   "outputs": [],
   "source": [
    "import matplotlib.pyplot as plt"
   ]
  },
  {
   "cell_type": "code",
   "execution_count": 50,
   "metadata": {},
   "outputs": [
    {
     "data": {
      "text/plain": [
       "<matplotlib.legend.Legend at 0x1a207ecbe0>"
      ]
     },
     "execution_count": 50,
     "metadata": {},
     "output_type": "execute_result"
    },
    {
     "data": {
      "image/png": "[encoded data removed]",
      "text/plain": [
       "<Figure size 1440x720 with 1 Axes>"
      ]
     },
     "metadata": {
      "needs_background": "light"
     },
     "output_type": "display_data"
    }
   ],
   "source": [
    "plt.figure(figsize = (20,10))\n",
    "plt.plot(year_topics['year'], year_topics['love'], label='love')\n",
    "plt.plot(year_topics['year'], year_topics['regret'], label='regret')\n",
    "plt.plot(year_topics['year'], year_topics['celebration'], label='celebration')\n",
    "plt.plot(year_topics['year'], year_topics['hard_work'], label='hard work')\n",
    "plt.plot(year_topics['year'], year_topics['memories'], label='memories')\n",
    "plt.plot(year_topics['year'], year_topics['escape'], label='escape')\n",
    "plt.legend()"
   ]
  },
  {
   "cell_type": "code",
   "execution_count": null,
   "metadata": {},
   "outputs": [],
   "source": []
  }
 ],
 "metadata": {
  "kernelspec": {
   "display_name": "Python 3",
   "language": "python",
   "name": "python3"
  },
  "language_info": {
   "codemirror_mode": {
    "name": "ipython",
    "version": 3
   },
   "file_extension": ".py",
   "mimetype": "text/x-python",
   "name": "python",
   "nbconvert_exporter": "python",
   "pygments_lexer": "ipython3",
   "version": "3.7.0"
  }
 },
 "nbformat": 4,
 "nbformat_minor": 2
}
